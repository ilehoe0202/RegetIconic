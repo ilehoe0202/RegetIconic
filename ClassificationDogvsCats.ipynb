{
  "nbformat": 4,
  "nbformat_minor": 0,
  "metadata": {
    "colab": {
      "name": "ClassificationDogvsCats.ipynb",
      "provenance": [],
      "include_colab_link": true
    },
    "kernelspec": {
      "name": "python3",
      "display_name": "Python 3"
    },
    "accelerator": "GPU"
  },
  "cells": [
    {
      "cell_type": "markdown",
      "metadata": {
        "id": "view-in-github",
        "colab_type": "text"
      },
      "source": [
        "<a href=\"https://colab.research.google.com/github/ilehoe0202/RegetIconic/blob/master/ClassificationDogvsCats.ipynb\" target=\"_parent\"><img src=\"https://colab.research.google.com/assets/colab-badge.svg\" alt=\"Open In Colab\"/></a>"
      ]
    },
    {
      "cell_type": "code",
      "metadata": {
        "id": "10QoD7OdMDCo"
      },
      "source": [
        "# baseline model for the dogs vs cats dataset\r\n",
        "import sys\r\n",
        "from matplotlib import pyplot\r\n",
        "from tensorflow.keras.utils import to_categorical\r\n",
        "from tensorflow.keras.models import Sequential\r\n",
        "from tensorflow.keras.layers import Conv2D\r\n",
        "from tensorflow.keras.layers import MaxPooling2D\r\n",
        "from tensorflow.keras.layers import Dense\r\n",
        "from tensorflow.keras.layers import Flatten\r\n",
        "from tensorflow.keras.optimizers import SGD\r\n",
        "from tensorflow.keras.preprocessing.image import ImageDataGenerator\r\n",
        "\r\n",
        "# define cnn model\r\n",
        "def define_model():\r\n",
        "\tmodel = Sequential()\r\n",
        "\tmodel.add(Conv2D(32, (3, 3), activation='relu', kernel_initializer='he_uniform', padding='same', input_shape=(200, 200, 3)))\r\n",
        "\tmodel.add(MaxPooling2D((2, 2)))\r\n",
        "\tmodel.add(Flatten())\r\n",
        "\tmodel.add(Dense(128, activation='relu', kernel_initializer='he_uniform'))\r\n",
        "\tmodel.add(Dense(1, activation='sigmoid'))\r\n",
        "\t# compile model\r\n",
        "\topt = SGD(lr=0.001, momentum=0.9)\r\n",
        "\tmodel.compile(optimizer=opt, loss='binary_crossentropy', metrics=['accuracy'])\r\n",
        "\treturn model\r\n",
        "\r\n",
        "# plot diagnostic learning curves\r\n",
        "def summarize_diagnostics(history):\r\n",
        "\t# plot loss\r\n",
        "\tpyplot.subplot(211)\r\n",
        "\tpyplot.title('Cross Entropy Loss')\r\n",
        "\tpyplot.plot(history.history['loss'], color='blue', label='train')\r\n",
        "\tpyplot.plot(history.history['val_loss'], color='orange', label='test')\r\n",
        "\t# plot accuracy\r\n",
        "\tpyplot.subplot(212)\r\n",
        "\tpyplot.title('Classification Accuracy')\r\n",
        "\tpyplot.plot(history.history['accuracy'], color='blue', label='train')\r\n",
        "\tpyplot.plot(history.history['val_accuracy'], color='orange', label='test')\r\n",
        "\t# save plot to file\r\n",
        "\tfilename = sys.argv[0].split('/')[-1]\r\n",
        "\tpyplot.savefig(filename + '_plot.png')\r\n",
        "\tpyplot.close()\r\n",
        "\r\n",
        "# run the test harness for evaluating a model\r\n",
        "def run_test_harness():\r\n",
        "\t# define model\r\n",
        "\tmodel = define_model()\r\n",
        "\t# create data generator\r\n",
        "\tdatagen = ImageDataGenerator(rescale=1.0/255.0)\r\n",
        "\t# prepare iterators\r\n",
        "\ttrain_it = datagen.flow_from_directory('/content/datasets/dataset_dogs_vs_cats/train/',\r\n",
        "\t\tclass_mode='binary', batch_size=64, target_size=(200, 200))\r\n",
        "\ttest_it = datagen.flow_from_directory('/content/datasets/dataset_dogs_vs_cats/test/',\r\n",
        "\t\tclass_mode='binary', batch_size=64, target_size=(200, 200))\r\n",
        " \r\n",
        "\t# fit model\r\n",
        "\thistory = model.fit_generator(train_it, steps_per_epoch=len(train_it),\r\n",
        "\t\tvalidation_data=test_it, validation_steps=len(test_it), epochs=20, verbose=1)\r\n",
        "\t# evaluate model\r\n",
        "\t_, acc = model.evaluate_generator(test_it, steps=len(test_it), verbose=1)\r\n",
        "\tprint('> %.3f' % (acc * 100.0))\r\n",
        "\t# learning curves\r\n",
        "\tsummarize_diagnostics(history)\r\n",
        "\r\n",
        "# entry point, run the test harness\r\n",
        "run_test_harness()"
      ],
      "execution_count": null,
      "outputs": []
    },
    {
      "cell_type": "code",
      "metadata": {
        "id": "E9gcVUSZSjay"
      },
      "source": [
        "# vgg16 model used for transfer learning on the dogs and cats dataset\r\n",
        "import sys\r\n",
        "from matplotlib import pyplot\r\n",
        "from keras.utils import to_categorical\r\n",
        "from keras.applications.vgg16 import VGG16\r\n",
        "from keras.models import Model\r\n",
        "from keras.layers import Dense\r\n",
        "from keras.layers import Flatten\r\n",
        "from keras.optimizers import SGD\r\n",
        "from keras.preprocessing.image import ImageDataGenerator\r\n",
        "\r\n",
        "# define cnn model\r\n",
        "def define_model():\r\n",
        "\t# load model\r\n",
        "\tmodel = VGG16(include_top=False, input_shape=(224, 224, 3))\r\n",
        "\t# mark loaded layers as not trainable\r\n",
        "\tfor layer in model.layers:\r\n",
        "\t\tlayer.trainable = False\r\n",
        "\t# add new classifier layers\r\n",
        "\tflat1 = Flatten()(model.layers[-1].output)\r\n",
        "\tclass1 = Dense(128, activation='relu', kernel_initializer='he_uniform')(flat1)\r\n",
        "\toutput = Dense(1, activation='sigmoid')(class1)\r\n",
        "\t# define new model\r\n",
        "\tmodel = Model(inputs=model.inputs, outputs=output)\r\n",
        "\t# compile model\r\n",
        "\topt = SGD(lr=0.001, momentum=0.9)\r\n",
        "\tmodel.compile(optimizer=opt, loss='binary_crossentropy', metrics=['accuracy'])\r\n",
        "\treturn model\r\n",
        "\r\n",
        "# plot diagnostic learning curves\r\n",
        "def summarize_diagnostics(history):\r\n",
        "\t# plot loss\r\n",
        "\tpyplot.subplot(211)\r\n",
        "\tpyplot.title('Cross Entropy Loss')\r\n",
        "\tpyplot.plot(history.history['loss'], color='blue', label='train')\r\n",
        "\tpyplot.plot(history.history['val_loss'], color='orange', label='test')\r\n",
        "\t# plot accuracy\r\n",
        "\tpyplot.subplot(212)\r\n",
        "\tpyplot.title('Classification Accuracy')\r\n",
        "\tpyplot.plot(history.history['accuracy'], color='blue', label='train')\r\n",
        "\tpyplot.plot(history.history['val_accuracy'], color='orange', label='test')\r\n",
        "\t# save plot to file\r\n",
        "\tfilename = sys.argv[0].split('/')[-1]\r\n",
        "\tpyplot.savefig(filename + '_plot.png')\r\n",
        "\tpyplot.close()\r\n",
        "\r\n",
        "# run the test harness for evaluating a model\r\n",
        "def run_test_harness():\r\n",
        "\t# define model\r\n",
        "\tmodel = define_model()\r\n",
        "\t# create data generator\r\n",
        "\tdatagen = ImageDataGenerator(featurewise_center=True)\r\n",
        "\t# specify imagenet mean values for centering\r\n",
        "\tdatagen.mean = [123.68, 116.779, 103.939]\r\n",
        "\t# prepare iterator\r\n",
        "\ttrain_it = datagen.flow_from_directory('/content/datasets/dataset_dogs_vs_cats/train/',\r\n",
        "\t\tclass_mode='binary', batch_size=32, target_size=(224, 224))\r\n",
        "\ttest_it = datagen.flow_from_directory('/content/datasets/dataset_dogs_vs_cats/test/',\r\n",
        "\t\tclass_mode='binary', batch_size=32, target_size=(224, 224))\r\n",
        "\t# fit model\r\n",
        "\thistory = model.fit_generator(train_it, steps_per_epoch=len(train_it),\r\n",
        "\t\tvalidation_data=test_it, validation_steps=len(test_it), epochs=5, verbose=1)\r\n",
        "\t# evaluate model\r\n",
        "\t_, acc = model.evaluate_generator(test_it, steps=len(test_it), verbose=0)\r\n",
        "\tprint('> %.3f' % (acc * 100.0))\r\n",
        "\t# learning curves\r\n",
        "\tsummarize_diagnostics(history)\r\n",
        "\r\n",
        "# entry point, run the test harness\r\n",
        "run_test_harness()"
      ],
      "execution_count": null,
      "outputs": []
    },
    {
      "cell_type": "code",
      "metadata": {
        "id": "DzdZ3yKVXTSl",
        "colab": {
          "base_uri": "https://localhost:8080/"
        },
        "outputId": "ee372b9e-6f5d-40c9-d6a7-e11cdb3c73e8"
      },
      "source": [
        "# baseline model with dropout for the dogs vs cats dataset\r\n",
        "import sys\r\n",
        "from matplotlib import pyplot\r\n",
        "from keras.utils import to_categorical\r\n",
        "from keras.models import Sequential\r\n",
        "from keras.layers import Conv2D\r\n",
        "from keras.layers import MaxPooling2D\r\n",
        "from keras.layers import Dense\r\n",
        "from keras.layers import Flatten\r\n",
        "from keras.layers import Dropout\r\n",
        "from keras.optimizers import SGD\r\n",
        "from keras.preprocessing.image import ImageDataGenerator\r\n",
        "\r\n",
        "# define cnn model\r\n",
        "def define_model():\r\n",
        "\tmodel = Sequential()\r\n",
        "\tmodel.add(Conv2D(32, (3, 3), activation='relu', kernel_initializer='he_uniform', padding='same', input_shape=(200, 200, 3)))\r\n",
        "\tmodel.add(MaxPooling2D((2, 2)))\r\n",
        "\tmodel.add(Dropout(0.2))\r\n",
        "\tmodel.add(Conv2D(64, (3, 3), activation='relu', kernel_initializer='he_uniform', padding='same'))\r\n",
        "\tmodel.add(MaxPooling2D((2, 2)))\r\n",
        "\tmodel.add(Dropout(0.2))\r\n",
        "\tmodel.add(Conv2D(128, (3, 3), activation='relu', kernel_initializer='he_uniform', padding='same'))\r\n",
        "\tmodel.add(MaxPooling2D((2, 2)))\r\n",
        "\tmodel.add(Dropout(0.2))\r\n",
        "\tmodel.add(Flatten())\r\n",
        "\tmodel.add(Dense(128, activation='relu', kernel_initializer='he_uniform'))\r\n",
        "\tmodel.add(Dropout(0.5))\r\n",
        "\tmodel.add(Dense(1, activation='sigmoid'))\r\n",
        "\t# compile model\r\n",
        "\topt = SGD(lr=0.001, momentum=0.9)\r\n",
        "\tmodel.compile(optimizer=opt, loss='binary_crossentropy', metrics=['accuracy'])\r\n",
        "\treturn model\r\n",
        "\r\n",
        "# plot diagnostic learning curves\r\n",
        "def summarize_diagnostics(history):\r\n",
        "\t# plot loss\r\n",
        "\tpyplot.subplot(211)\r\n",
        "\tpyplot.title('Cross Entropy Loss')\r\n",
        "\tpyplot.plot(history.history['loss'], color='blue', label='train')\r\n",
        "\tpyplot.plot(history.history['val_loss'], color='orange', label='test')\r\n",
        "\t# plot accuracy\r\n",
        "\tpyplot.subplot(212)\r\n",
        "\tpyplot.title('Classification Accuracy')\r\n",
        "\tpyplot.plot(history.history['accuracy'], color='blue', label='train')\r\n",
        "\tpyplot.plot(history.history['val_accuracy'], color='orange', label='test')\r\n",
        "\t# save plot to file\r\n",
        "\tfilename = sys.argv[0].split('/')[-1]\r\n",
        "\tpyplot.savefig(filename + '_plot.png')\r\n",
        "\tpyplot.close()\r\n",
        "\r\n",
        "# run the test harness for evaluating a model\r\n",
        "def run_test_harness():\r\n",
        "\t# define model\r\n",
        "\tmodel = define_model()\r\n",
        "\t# create data generator\r\n",
        "\tdatagen = ImageDataGenerator(rescale=1.0/255.0)\r\n",
        "\t# prepare iterator\r\n",
        "\ttrain_it = datagen.flow_from_directory('/content/datasets/dataset_dogs_vs_cats/train/',\r\n",
        "\t\tclass_mode='binary', batch_size=64, target_size=(200, 200))\r\n",
        "\ttest_it = datagen.flow_from_directory('/content/datasets/dataset_dogs_vs_cats/test/',\r\n",
        "\t\tclass_mode='binary', batch_size=64, target_size=(200, 200))\r\n",
        "\t# fit model\r\n",
        "\thistory = model.fit_generator(train_it, steps_per_epoch=len(train_it),\r\n",
        "\t\tvalidation_data=test_it, validation_steps=len(test_it), epochs=50, verbose=0)\r\n",
        "\t# evaluate model\r\n",
        "\t_, acc = model.evaluate_generator(test_it, steps=len(test_it), verbose=0)\r\n",
        "\tprint('> %.3f' % (acc * 100.0))\r\n",
        "\t# learning curves\r\n",
        "\tsummarize_diagnostics(history)\r\n",
        "\r\n",
        "# entry point, run the test harness\r\n",
        "run_test_harness()"
      ],
      "execution_count": null,
      "outputs": [
        {
          "output_type": "stream",
          "text": [
            "Found 18697 images belonging to 2 classes.\n",
            "Found 6303 images belonging to 2 classes.\n"
          ],
          "name": "stdout"
        },
        {
          "output_type": "stream",
          "text": [
            "/usr/local/lib/python3.6/dist-packages/tensorflow/python/keras/engine/training.py:1844: UserWarning: `Model.fit_generator` is deprecated and will be removed in a future version. Please use `Model.fit`, which supports generators.\n",
            "  warnings.warn('`Model.fit_generator` is deprecated and '\n"
          ],
          "name": "stderr"
        }
      ]
    },
    {
      "cell_type": "code",
      "metadata": {
        "id": "RYLtFu5fcQrm"
      },
      "source": [
        " !ln -s \"/content/drive/MyDrive/Colab Notebooks/dataset_dogs_vs_cats\" \"/content/datasets\""
      ],
      "execution_count": null,
      "outputs": []
    },
    {
      "cell_type": "code",
      "metadata": {
        "id": "L63EgX4IXpeg"
      },
      "source": [
        "%%shell\r\n",
        "    zip_path = base/’size_test/cats_dogs.zip’\r\n",
        "\r\n",
        "    !cp “{zip_path}” .\r\n",
        "\r\n",
        "    !unzip -q cats_dogs.zip\r\n",
        "\r\n",
        "    !rm cats_dogs.zip"
      ],
      "execution_count": null,
      "outputs": []
    },
    {
      "cell_type": "code",
      "metadata": {
        "id": "yGCAqkoeXCd9"
      },
      "source": [
        "from google.colab import drive\n",
        "drive.mount('/content/drive')"
      ],
      "execution_count": null,
      "outputs": []
    },
    {
      "cell_type": "code",
      "metadata": {
        "id": "4qaR01jeQj74"
      },
      "source": [
        "import tensorflow as tf\r\n",
        "print(tf.test.gpu_device_name())\r\n"
      ],
      "execution_count": null,
      "outputs": []
    },
    {
      "cell_type": "code",
      "metadata": {
        "id": "zYlLxaWYPJ8R"
      },
      "source": [
        "! pip install tensorflow-gpu"
      ],
      "execution_count": null,
      "outputs": []
    },
    {
      "cell_type": "code",
      "metadata": {
        "id": "ubmahRebQa26"
      },
      "source": [
        "! nvidia-smi"
      ],
      "execution_count": null,
      "outputs": []
    }
  ]
}